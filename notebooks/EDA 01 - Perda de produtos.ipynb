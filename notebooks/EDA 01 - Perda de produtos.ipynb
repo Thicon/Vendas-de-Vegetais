{
 "cells": [
  {
   "cell_type": "markdown",
   "metadata": {},
   "source": [
    "### **1. Importações**"
   ]
  },
  {
   "cell_type": "code",
   "execution_count": 1,
   "metadata": {},
   "outputs": [
    {
     "name": "stdout",
     "output_type": "stream",
     "text": [
      "-------------------- | ----------\n",
      "     Biblioteca      |   Versão  \n",
      "-------------------- | ----------\n",
      "Matplotlib           |      3.9.0\n",
      "Numpy                |     1.26.4\n",
      "Pandas               |      2.2.2\n",
      "Seaborn              |     0.13.2\n",
      "Sklearn              |      1.5.0\n"
     ]
    }
   ],
   "source": [
    "import pandas as pd\n",
    "import numpy as np\n",
    "import seaborn as sns\n",
    "import matplotlib\n",
    "import sklearn\n",
    "\n",
    "import matplotlib.pyplot as plt\n",
    "import datetime as dt\n",
    "\n",
    "bibliotecas = {\n",
    "    \"Pandas\":pd,\n",
    "    \"Numpy\":np,\n",
    "    \"Seaborn\":sns,\n",
    "    \"Matplotlib\":matplotlib,\n",
    "    \"Sklearn\":sklearn}\n",
    "\n",
    "print(f\"{'':-^20} | {'':-^10}\")\n",
    "print(f\"{'Biblioteca':^20} | {'Versão':^10}\")\n",
    "print(f\"{'':-^20} | {'':-^10}\")\n",
    "\n",
    "for nome, biblioteca in sorted(bibliotecas.items()):\n",
    "    print(f\"{nome:<20} | {biblioteca.__version__:>10}\")"
   ]
  },
  {
   "cell_type": "code",
   "execution_count": 2,
   "metadata": {},
   "outputs": [],
   "source": [
    "produtos = pd.read_csv('../data/annex1.csv')\n",
    "vendas = pd.read_csv('../data/annex2.csv')\n",
    "precos = pd.read_csv('../data/annex3.csv')\n",
    "taxa_perda = pd.read_csv('../data/annex4.csv')"
   ]
  },
  {
   "cell_type": "markdown",
   "metadata": {},
   "source": [
    "### **2. Explorando as bases de dados**"
   ]
  },
  {
   "cell_type": "code",
   "execution_count": 3,
   "metadata": {},
   "outputs": [
    {
     "data": {
      "text/html": [
       "<div>\n",
       "<style scoped>\n",
       "    .dataframe tbody tr th:only-of-type {\n",
       "        vertical-align: middle;\n",
       "    }\n",
       "\n",
       "    .dataframe tbody tr th {\n",
       "        vertical-align: top;\n",
       "    }\n",
       "\n",
       "    .dataframe thead th {\n",
       "        text-align: right;\n",
       "    }\n",
       "</style>\n",
       "<table border=\"1\" class=\"dataframe\">\n",
       "  <thead>\n",
       "    <tr style=\"text-align: right;\">\n",
       "      <th></th>\n",
       "      <th>Item Code</th>\n",
       "      <th>Item Name</th>\n",
       "      <th>Category Code</th>\n",
       "      <th>Category Name</th>\n",
       "    </tr>\n",
       "  </thead>\n",
       "  <tbody>\n",
       "    <tr>\n",
       "      <th>0</th>\n",
       "      <td>102900005115168</td>\n",
       "      <td>Niushou Shengcai</td>\n",
       "      <td>1011010101</td>\n",
       "      <td>Flower/Leaf Vegetables</td>\n",
       "    </tr>\n",
       "    <tr>\n",
       "      <th>1</th>\n",
       "      <td>102900005115199</td>\n",
       "      <td>Sichuan Red Cedar</td>\n",
       "      <td>1011010101</td>\n",
       "      <td>Flower/Leaf Vegetables</td>\n",
       "    </tr>\n",
       "    <tr>\n",
       "      <th>2</th>\n",
       "      <td>102900005115625</td>\n",
       "      <td>Local Xiaomao Cabbage</td>\n",
       "      <td>1011010101</td>\n",
       "      <td>Flower/Leaf Vegetables</td>\n",
       "    </tr>\n",
       "  </tbody>\n",
       "</table>\n",
       "</div>"
      ],
      "text/plain": [
       "         Item Code              Item Name  Category Code  \\\n",
       "0  102900005115168       Niushou Shengcai     1011010101   \n",
       "1  102900005115199      Sichuan Red Cedar     1011010101   \n",
       "2  102900005115625  Local Xiaomao Cabbage     1011010101   \n",
       "\n",
       "            Category Name  \n",
       "0  Flower/Leaf Vegetables  \n",
       "1  Flower/Leaf Vegetables  \n",
       "2  Flower/Leaf Vegetables  "
      ]
     },
     "execution_count": 3,
     "metadata": {},
     "output_type": "execute_result"
    }
   ],
   "source": [
    "produtos.head(3)"
   ]
  },
  {
   "cell_type": "code",
   "execution_count": 4,
   "metadata": {},
   "outputs": [
    {
     "data": {
      "text/html": [
       "<div>\n",
       "<style scoped>\n",
       "    .dataframe tbody tr th:only-of-type {\n",
       "        vertical-align: middle;\n",
       "    }\n",
       "\n",
       "    .dataframe tbody tr th {\n",
       "        vertical-align: top;\n",
       "    }\n",
       "\n",
       "    .dataframe thead th {\n",
       "        text-align: right;\n",
       "    }\n",
       "</style>\n",
       "<table border=\"1\" class=\"dataframe\">\n",
       "  <thead>\n",
       "    <tr style=\"text-align: right;\">\n",
       "      <th></th>\n",
       "      <th>Date</th>\n",
       "      <th>Time</th>\n",
       "      <th>Item Code</th>\n",
       "      <th>Quantity Sold (kilo)</th>\n",
       "      <th>Unit Selling Price (RMB/kg)</th>\n",
       "      <th>Sale or Return</th>\n",
       "      <th>Discount (Yes/No)</th>\n",
       "    </tr>\n",
       "  </thead>\n",
       "  <tbody>\n",
       "    <tr>\n",
       "      <th>0</th>\n",
       "      <td>2020-07-01</td>\n",
       "      <td>09:15:07.924</td>\n",
       "      <td>102900005117056</td>\n",
       "      <td>0.396</td>\n",
       "      <td>7.6</td>\n",
       "      <td>sale</td>\n",
       "      <td>No</td>\n",
       "    </tr>\n",
       "    <tr>\n",
       "      <th>1</th>\n",
       "      <td>2020-07-01</td>\n",
       "      <td>09:17:27.295</td>\n",
       "      <td>102900005115960</td>\n",
       "      <td>0.849</td>\n",
       "      <td>3.2</td>\n",
       "      <td>sale</td>\n",
       "      <td>No</td>\n",
       "    </tr>\n",
       "    <tr>\n",
       "      <th>2</th>\n",
       "      <td>2020-07-01</td>\n",
       "      <td>09:17:33.905</td>\n",
       "      <td>102900005117056</td>\n",
       "      <td>0.409</td>\n",
       "      <td>7.6</td>\n",
       "      <td>sale</td>\n",
       "      <td>No</td>\n",
       "    </tr>\n",
       "  </tbody>\n",
       "</table>\n",
       "</div>"
      ],
      "text/plain": [
       "         Date          Time        Item Code  Quantity Sold (kilo)  \\\n",
       "0  2020-07-01  09:15:07.924  102900005117056                 0.396   \n",
       "1  2020-07-01  09:17:27.295  102900005115960                 0.849   \n",
       "2  2020-07-01  09:17:33.905  102900005117056                 0.409   \n",
       "\n",
       "   Unit Selling Price (RMB/kg) Sale or Return Discount (Yes/No)  \n",
       "0                          7.6           sale                No  \n",
       "1                          3.2           sale                No  \n",
       "2                          7.6           sale                No  "
      ]
     },
     "execution_count": 4,
     "metadata": {},
     "output_type": "execute_result"
    }
   ],
   "source": [
    "vendas.head(3)"
   ]
  },
  {
   "cell_type": "code",
   "execution_count": 5,
   "metadata": {},
   "outputs": [
    {
     "data": {
      "text/html": [
       "<div>\n",
       "<style scoped>\n",
       "    .dataframe tbody tr th:only-of-type {\n",
       "        vertical-align: middle;\n",
       "    }\n",
       "\n",
       "    .dataframe tbody tr th {\n",
       "        vertical-align: top;\n",
       "    }\n",
       "\n",
       "    .dataframe thead th {\n",
       "        text-align: right;\n",
       "    }\n",
       "</style>\n",
       "<table border=\"1\" class=\"dataframe\">\n",
       "  <thead>\n",
       "    <tr style=\"text-align: right;\">\n",
       "      <th></th>\n",
       "      <th>Date</th>\n",
       "      <th>Item Code</th>\n",
       "      <th>Wholesale Price (RMB/kg)</th>\n",
       "    </tr>\n",
       "  </thead>\n",
       "  <tbody>\n",
       "    <tr>\n",
       "      <th>0</th>\n",
       "      <td>2020-07-01</td>\n",
       "      <td>102900005115762</td>\n",
       "      <td>3.88</td>\n",
       "    </tr>\n",
       "    <tr>\n",
       "      <th>1</th>\n",
       "      <td>2020-07-01</td>\n",
       "      <td>102900005115779</td>\n",
       "      <td>6.72</td>\n",
       "    </tr>\n",
       "    <tr>\n",
       "      <th>2</th>\n",
       "      <td>2020-07-01</td>\n",
       "      <td>102900005115786</td>\n",
       "      <td>3.19</td>\n",
       "    </tr>\n",
       "  </tbody>\n",
       "</table>\n",
       "</div>"
      ],
      "text/plain": [
       "         Date        Item Code  Wholesale Price (RMB/kg)\n",
       "0  2020-07-01  102900005115762                      3.88\n",
       "1  2020-07-01  102900005115779                      6.72\n",
       "2  2020-07-01  102900005115786                      3.19"
      ]
     },
     "execution_count": 5,
     "metadata": {},
     "output_type": "execute_result"
    }
   ],
   "source": [
    "precos.head(3)"
   ]
  },
  {
   "cell_type": "code",
   "execution_count": 6,
   "metadata": {},
   "outputs": [
    {
     "data": {
      "text/html": [
       "<div>\n",
       "<style scoped>\n",
       "    .dataframe tbody tr th:only-of-type {\n",
       "        vertical-align: middle;\n",
       "    }\n",
       "\n",
       "    .dataframe tbody tr th {\n",
       "        vertical-align: top;\n",
       "    }\n",
       "\n",
       "    .dataframe thead th {\n",
       "        text-align: right;\n",
       "    }\n",
       "</style>\n",
       "<table border=\"1\" class=\"dataframe\">\n",
       "  <thead>\n",
       "    <tr style=\"text-align: right;\">\n",
       "      <th></th>\n",
       "      <th>Item Code</th>\n",
       "      <th>Item Name</th>\n",
       "      <th>Loss Rate (%)</th>\n",
       "    </tr>\n",
       "  </thead>\n",
       "  <tbody>\n",
       "    <tr>\n",
       "      <th>0</th>\n",
       "      <td>102900005115168</td>\n",
       "      <td>Niushou Shengcai</td>\n",
       "      <td>4.39</td>\n",
       "    </tr>\n",
       "    <tr>\n",
       "      <th>1</th>\n",
       "      <td>102900005115199</td>\n",
       "      <td>Sichuan Red Cedar</td>\n",
       "      <td>10.46</td>\n",
       "    </tr>\n",
       "    <tr>\n",
       "      <th>2</th>\n",
       "      <td>102900005115250</td>\n",
       "      <td>Xixia Black Mushroom (1)</td>\n",
       "      <td>10.80</td>\n",
       "    </tr>\n",
       "  </tbody>\n",
       "</table>\n",
       "</div>"
      ],
      "text/plain": [
       "         Item Code                 Item Name  Loss Rate (%)\n",
       "0  102900005115168          Niushou Shengcai           4.39\n",
       "1  102900005115199         Sichuan Red Cedar          10.46\n",
       "2  102900005115250  Xixia Black Mushroom (1)          10.80"
      ]
     },
     "execution_count": 6,
     "metadata": {},
     "output_type": "execute_result"
    }
   ],
   "source": [
    "taxa_perda.head(3)"
   ]
  },
  {
   "cell_type": "markdown",
   "metadata": {},
   "source": [
    "### **3. Tratamentos iniciais**"
   ]
  },
  {
   "cell_type": "markdown",
   "metadata": {},
   "source": [
    "#### **3.1. Linhas e colunas**"
   ]
  },
  {
   "cell_type": "code",
   "execution_count": 7,
   "metadata": {},
   "outputs": [
    {
     "name": "stdout",
     "output_type": "stream",
     "text": [
      "Base de Produtos: Linhas: 251     | Colunas: 4\n",
      "Base de Produtos: Linhas: 878503  | Colunas: 7\n",
      "Base de Produtos: Linhas: 55982   | Colunas: 3\n",
      "Base de Produtos: Linhas: 251     | Colunas: 3\n"
     ]
    }
   ],
   "source": [
    "print(f\"Base de Produtos: Linhas: {produtos.shape[0]:<{7}} | Colunas: {produtos.shape[1]:^{1}}\")\n",
    "print(f\"Base de Produtos: Linhas: {vendas.shape[0]:<{7}} | Colunas: {vendas.shape[1]:^{1}}\")\n",
    "print(f\"Base de Produtos: Linhas: {precos.shape[0]:<{7}} | Colunas: {precos.shape[1]:^{1}}\")\n",
    "print(f\"Base de Produtos: Linhas: {taxa_perda.shape[0]:<{7}} | Colunas: {taxa_perda.shape[1]:^{1}}\")"
   ]
  },
  {
   "cell_type": "markdown",
   "metadata": {},
   "source": [
    "#### **3.2. Linhas duplicadas**"
   ]
  },
  {
   "cell_type": "code",
   "execution_count": 8,
   "metadata": {},
   "outputs": [
    {
     "name": "stdout",
     "output_type": "stream",
     "text": [
      "0\n",
      "0\n",
      "0\n",
      "0\n"
     ]
    }
   ],
   "source": [
    "print(produtos.duplicated().sum())\n",
    "print(vendas.duplicated().sum())\n",
    "print(precos.duplicated().sum())\n",
    "print(taxa_perda.duplicated().sum())"
   ]
  },
  {
   "cell_type": "markdown",
   "metadata": {},
   "source": [
    "#### **3.3. Valores nulos por coluna**"
   ]
  },
  {
   "cell_type": "code",
   "execution_count": 9,
   "metadata": {},
   "outputs": [
    {
     "name": "stdout",
     "output_type": "stream",
     "text": [
      "Base: Produtos\n",
      "Item Code        0\n",
      "Item Name        0\n",
      "Category Code    0\n",
      "Category Name    0\n",
      "dtype: int64\n",
      "\n",
      "Base: Vendas\n",
      "Date                           0\n",
      "Time                           0\n",
      "Item Code                      0\n",
      "Quantity Sold (kilo)           0\n",
      "Unit Selling Price (RMB/kg)    0\n",
      "Sale or Return                 0\n",
      "Discount (Yes/No)              0\n",
      "dtype: int64\n",
      "\n",
      "Base: Preços\n",
      "Date                        0\n",
      "Item Code                   0\n",
      "Wholesale Price (RMB/kg)    0\n",
      "dtype: int64\n",
      "\n",
      "Base: Taxa de perdas\n",
      "Item Code        0\n",
      "Item Name        0\n",
      "Loss Rate (%)    0\n",
      "dtype: int64\n",
      "\n"
     ]
    }
   ],
   "source": [
    "print(\"Base: Produtos\")\n",
    "print(produtos.isnull().sum())\n",
    "print('')\n",
    "print(\"Base: Vendas\")\n",
    "print(vendas.isnull().sum())\n",
    "print('')\n",
    "print(\"Base: Preços\")\n",
    "print(precos.isnull().sum())\n",
    "print('')\n",
    "print(\"Base: Taxa de perdas\")\n",
    "print(taxa_perda.isnull().sum())\n",
    "print('')"
   ]
  },
  {
   "cell_type": "markdown",
   "metadata": {},
   "source": [
    "#### **3.4. Informações das bases**"
   ]
  },
  {
   "cell_type": "markdown",
   "metadata": {},
   "source": [
    "##### **3.4.1. Produtos**"
   ]
  },
  {
   "cell_type": "code",
   "execution_count": 10,
   "metadata": {},
   "outputs": [
    {
     "name": "stdout",
     "output_type": "stream",
     "text": [
      "<class 'pandas.core.frame.DataFrame'>\n",
      "RangeIndex: 251 entries, 0 to 250\n",
      "Data columns (total 4 columns):\n",
      " #   Column         Non-Null Count  Dtype \n",
      "---  ------         --------------  ----- \n",
      " 0   Item Code      251 non-null    int64 \n",
      " 1   Item Name      251 non-null    object\n",
      " 2   Category Code  251 non-null    int64 \n",
      " 3   Category Name  251 non-null    object\n",
      "dtypes: int64(2), object(2)\n",
      "memory usage: 8.0+ KB\n"
     ]
    }
   ],
   "source": [
    "produtos.info()"
   ]
  },
  {
   "cell_type": "code",
   "execution_count": 11,
   "metadata": {},
   "outputs": [
    {
     "data": {
      "text/html": [
       "<div>\n",
       "<style scoped>\n",
       "    .dataframe tbody tr th:only-of-type {\n",
       "        vertical-align: middle;\n",
       "    }\n",
       "\n",
       "    .dataframe tbody tr th {\n",
       "        vertical-align: top;\n",
       "    }\n",
       "\n",
       "    .dataframe thead th {\n",
       "        text-align: right;\n",
       "    }\n",
       "</style>\n",
       "<table border=\"1\" class=\"dataframe\">\n",
       "  <thead>\n",
       "    <tr style=\"text-align: right;\">\n",
       "      <th></th>\n",
       "      <th>Item Code</th>\n",
       "      <th>Category Code</th>\n",
       "    </tr>\n",
       "  </thead>\n",
       "  <tbody>\n",
       "    <tr>\n",
       "      <th>count</th>\n",
       "      <td>2.510000e+02</td>\n",
       "      <td>2.510000e+02</td>\n",
       "    </tr>\n",
       "    <tr>\n",
       "      <th>mean</th>\n",
       "      <td>1.031908e+14</td>\n",
       "      <td>1.011010e+09</td>\n",
       "    </tr>\n",
       "    <tr>\n",
       "      <th>std</th>\n",
       "      <td>1.048400e+12</td>\n",
       "      <td>2.915469e+02</td>\n",
       "    </tr>\n",
       "    <tr>\n",
       "      <th>min</th>\n",
       "      <td>1.029000e+14</td>\n",
       "      <td>1.011010e+09</td>\n",
       "    </tr>\n",
       "    <tr>\n",
       "      <th>25%</th>\n",
       "      <td>1.029000e+14</td>\n",
       "      <td>1.011010e+09</td>\n",
       "    </tr>\n",
       "    <tr>\n",
       "      <th>50%</th>\n",
       "      <td>1.029000e+14</td>\n",
       "      <td>1.011011e+09</td>\n",
       "    </tr>\n",
       "    <tr>\n",
       "      <th>75%</th>\n",
       "      <td>1.029000e+14</td>\n",
       "      <td>1.011011e+09</td>\n",
       "    </tr>\n",
       "    <tr>\n",
       "      <th>max</th>\n",
       "      <td>1.069740e+14</td>\n",
       "      <td>1.011011e+09</td>\n",
       "    </tr>\n",
       "  </tbody>\n",
       "</table>\n",
       "</div>"
      ],
      "text/plain": [
       "          Item Code  Category Code\n",
       "count  2.510000e+02   2.510000e+02\n",
       "mean   1.031908e+14   1.011010e+09\n",
       "std    1.048400e+12   2.915469e+02\n",
       "min    1.029000e+14   1.011010e+09\n",
       "25%    1.029000e+14   1.011010e+09\n",
       "50%    1.029000e+14   1.011011e+09\n",
       "75%    1.029000e+14   1.011011e+09\n",
       "max    1.069740e+14   1.011011e+09"
      ]
     },
     "execution_count": 11,
     "metadata": {},
     "output_type": "execute_result"
    }
   ],
   "source": [
    "produtos.describe()"
   ]
  },
  {
   "cell_type": "markdown",
   "metadata": {},
   "source": [
    "##### **3.4.2. Vendas**"
   ]
  },
  {
   "cell_type": "code",
   "execution_count": 12,
   "metadata": {},
   "outputs": [
    {
     "name": "stdout",
     "output_type": "stream",
     "text": [
      "<class 'pandas.core.frame.DataFrame'>\n",
      "RangeIndex: 878503 entries, 0 to 878502\n",
      "Data columns (total 7 columns):\n",
      " #   Column                       Non-Null Count   Dtype  \n",
      "---  ------                       --------------   -----  \n",
      " 0   Date                         878503 non-null  object \n",
      " 1   Time                         878503 non-null  object \n",
      " 2   Item Code                    878503 non-null  int64  \n",
      " 3   Quantity Sold (kilo)         878503 non-null  float64\n",
      " 4   Unit Selling Price (RMB/kg)  878503 non-null  float64\n",
      " 5   Sale or Return               878503 non-null  object \n",
      " 6   Discount (Yes/No)            878503 non-null  object \n",
      "dtypes: float64(2), int64(1), object(4)\n",
      "memory usage: 46.9+ MB\n"
     ]
    }
   ],
   "source": [
    "vendas.info()"
   ]
  },
  {
   "cell_type": "code",
   "execution_count": 13,
   "metadata": {},
   "outputs": [
    {
     "data": {
      "text/plain": [
       "0         09:15\n",
       "1         09:17\n",
       "2         09:17\n",
       "3         09:19\n",
       "4         09:20\n",
       "          ...  \n",
       "878498    21:35\n",
       "878499    21:35\n",
       "878500    21:35\n",
       "878501    21:35\n",
       "878502    21:40\n",
       "Name: Time, Length: 878503, dtype: object"
      ]
     },
     "execution_count": 13,
     "metadata": {},
     "output_type": "execute_result"
    }
   ],
   "source": [
    "vendas['Time'].str.slice(0,5)"
   ]
  },
  {
   "cell_type": "code",
   "execution_count": 14,
   "metadata": {},
   "outputs": [
    {
     "data": {
      "text/html": [
       "<div>\n",
       "<style scoped>\n",
       "    .dataframe tbody tr th:only-of-type {\n",
       "        vertical-align: middle;\n",
       "    }\n",
       "\n",
       "    .dataframe tbody tr th {\n",
       "        vertical-align: top;\n",
       "    }\n",
       "\n",
       "    .dataframe thead th {\n",
       "        text-align: right;\n",
       "    }\n",
       "</style>\n",
       "<table border=\"1\" class=\"dataframe\">\n",
       "  <thead>\n",
       "    <tr style=\"text-align: right;\">\n",
       "      <th></th>\n",
       "      <th>Date</th>\n",
       "      <th>Time</th>\n",
       "      <th>Item Code</th>\n",
       "      <th>Quantity Sold (kilo)</th>\n",
       "      <th>Unit Selling Price (RMB/kg)</th>\n",
       "      <th>Sale or Return</th>\n",
       "      <th>Discount (Yes/No)</th>\n",
       "    </tr>\n",
       "  </thead>\n",
       "  <tbody>\n",
       "    <tr>\n",
       "      <th>0</th>\n",
       "      <td>2020-07-01</td>\n",
       "      <td>09:15</td>\n",
       "      <td>102900005117056</td>\n",
       "      <td>0.396</td>\n",
       "      <td>7.6</td>\n",
       "      <td>sale</td>\n",
       "      <td>No</td>\n",
       "    </tr>\n",
       "    <tr>\n",
       "      <th>1</th>\n",
       "      <td>2020-07-01</td>\n",
       "      <td>09:17</td>\n",
       "      <td>102900005115960</td>\n",
       "      <td>0.849</td>\n",
       "      <td>3.2</td>\n",
       "      <td>sale</td>\n",
       "      <td>No</td>\n",
       "    </tr>\n",
       "    <tr>\n",
       "      <th>2</th>\n",
       "      <td>2020-07-01</td>\n",
       "      <td>09:17</td>\n",
       "      <td>102900005117056</td>\n",
       "      <td>0.409</td>\n",
       "      <td>7.6</td>\n",
       "      <td>sale</td>\n",
       "      <td>No</td>\n",
       "    </tr>\n",
       "    <tr>\n",
       "      <th>3</th>\n",
       "      <td>2020-07-01</td>\n",
       "      <td>09:19</td>\n",
       "      <td>102900005115823</td>\n",
       "      <td>0.421</td>\n",
       "      <td>10.0</td>\n",
       "      <td>sale</td>\n",
       "      <td>No</td>\n",
       "    </tr>\n",
       "    <tr>\n",
       "      <th>4</th>\n",
       "      <td>2020-07-01</td>\n",
       "      <td>09:20</td>\n",
       "      <td>102900005115908</td>\n",
       "      <td>0.539</td>\n",
       "      <td>8.0</td>\n",
       "      <td>sale</td>\n",
       "      <td>No</td>\n",
       "    </tr>\n",
       "  </tbody>\n",
       "</table>\n",
       "</div>"
      ],
      "text/plain": [
       "        Date   Time        Item Code  Quantity Sold (kilo)  \\\n",
       "0 2020-07-01  09:15  102900005117056                 0.396   \n",
       "1 2020-07-01  09:17  102900005115960                 0.849   \n",
       "2 2020-07-01  09:17  102900005117056                 0.409   \n",
       "3 2020-07-01  09:19  102900005115823                 0.421   \n",
       "4 2020-07-01  09:20  102900005115908                 0.539   \n",
       "\n",
       "   Unit Selling Price (RMB/kg) Sale or Return Discount (Yes/No)  \n",
       "0                          7.6           sale                No  \n",
       "1                          3.2           sale                No  \n",
       "2                          7.6           sale                No  \n",
       "3                         10.0           sale                No  \n",
       "4                          8.0           sale                No  "
      ]
     },
     "execution_count": 14,
     "metadata": {},
     "output_type": "execute_result"
    }
   ],
   "source": [
    "vendas['Date'] = pd.to_datetime(vendas['Date'], format=\"%Y-%m-%d\")\n",
    "vendas['Time'] = vendas['Time'].str.slice(0,5)\n",
    "vendas['Time'] = pd.to_datetime(vendas['Time'], format='%H:%M')\n",
    "vendas['Time'] = vendas['Time'].dt.strftime('%H:%M')\n",
    "vendas.head()"
   ]
  },
  {
   "cell_type": "markdown",
   "metadata": {},
   "source": [
    "##### **3.4.3. Preços**"
   ]
  },
  {
   "cell_type": "code",
   "execution_count": 15,
   "metadata": {},
   "outputs": [
    {
     "name": "stdout",
     "output_type": "stream",
     "text": [
      "<class 'pandas.core.frame.DataFrame'>\n",
      "RangeIndex: 55982 entries, 0 to 55981\n",
      "Data columns (total 3 columns):\n",
      " #   Column                    Non-Null Count  Dtype  \n",
      "---  ------                    --------------  -----  \n",
      " 0   Date                      55982 non-null  object \n",
      " 1   Item Code                 55982 non-null  int64  \n",
      " 2   Wholesale Price (RMB/kg)  55982 non-null  float64\n",
      "dtypes: float64(1), int64(1), object(1)\n",
      "memory usage: 1.3+ MB\n"
     ]
    }
   ],
   "source": [
    "precos.info()"
   ]
  },
  {
   "cell_type": "code",
   "execution_count": 16,
   "metadata": {},
   "outputs": [],
   "source": [
    "precos['Date'] = pd.to_datetime(vendas['Date'], format=\"%Y-%m-%d\")"
   ]
  },
  {
   "cell_type": "code",
   "execution_count": 17,
   "metadata": {},
   "outputs": [
    {
     "data": {
      "text/html": [
       "<div>\n",
       "<style scoped>\n",
       "    .dataframe tbody tr th:only-of-type {\n",
       "        vertical-align: middle;\n",
       "    }\n",
       "\n",
       "    .dataframe tbody tr th {\n",
       "        vertical-align: top;\n",
       "    }\n",
       "\n",
       "    .dataframe thead th {\n",
       "        text-align: right;\n",
       "    }\n",
       "</style>\n",
       "<table border=\"1\" class=\"dataframe\">\n",
       "  <thead>\n",
       "    <tr style=\"text-align: right;\">\n",
       "      <th></th>\n",
       "      <th>Date</th>\n",
       "      <th>Item Code</th>\n",
       "      <th>Wholesale Price (RMB/kg)</th>\n",
       "    </tr>\n",
       "  </thead>\n",
       "  <tbody>\n",
       "    <tr>\n",
       "      <th>count</th>\n",
       "      <td>55982</td>\n",
       "      <td>5.598200e+04</td>\n",
       "      <td>55982.000000</td>\n",
       "    </tr>\n",
       "    <tr>\n",
       "      <th>mean</th>\n",
       "      <td>2020-07-26 02:00:58.390196736</td>\n",
       "      <td>1.030449e+14</td>\n",
       "      <td>5.962620</td>\n",
       "    </tr>\n",
       "    <tr>\n",
       "      <th>min</th>\n",
       "      <td>2020-07-01 00:00:00</td>\n",
       "      <td>1.029000e+14</td>\n",
       "      <td>0.010000</td>\n",
       "    </tr>\n",
       "    <tr>\n",
       "      <th>25%</th>\n",
       "      <td>2020-07-14 00:00:00</td>\n",
       "      <td>1.029000e+14</td>\n",
       "      <td>2.810000</td>\n",
       "    </tr>\n",
       "    <tr>\n",
       "      <th>50%</th>\n",
       "      <td>2020-07-26 00:00:00</td>\n",
       "      <td>1.029000e+14</td>\n",
       "      <td>4.630000</td>\n",
       "    </tr>\n",
       "    <tr>\n",
       "      <th>75%</th>\n",
       "      <td>2020-08-08 00:00:00</td>\n",
       "      <td>1.029000e+14</td>\n",
       "      <td>7.570000</td>\n",
       "    </tr>\n",
       "    <tr>\n",
       "      <th>max</th>\n",
       "      <td>2020-08-20 00:00:00</td>\n",
       "      <td>1.069740e+14</td>\n",
       "      <td>141.000000</td>\n",
       "    </tr>\n",
       "    <tr>\n",
       "      <th>std</th>\n",
       "      <td>NaN</td>\n",
       "      <td>7.527927e+11</td>\n",
       "      <td>5.067802</td>\n",
       "    </tr>\n",
       "  </tbody>\n",
       "</table>\n",
       "</div>"
      ],
      "text/plain": [
       "                                Date     Item Code  Wholesale Price (RMB/kg)\n",
       "count                          55982  5.598200e+04              55982.000000\n",
       "mean   2020-07-26 02:00:58.390196736  1.030449e+14                  5.962620\n",
       "min              2020-07-01 00:00:00  1.029000e+14                  0.010000\n",
       "25%              2020-07-14 00:00:00  1.029000e+14                  2.810000\n",
       "50%              2020-07-26 00:00:00  1.029000e+14                  4.630000\n",
       "75%              2020-08-08 00:00:00  1.029000e+14                  7.570000\n",
       "max              2020-08-20 00:00:00  1.069740e+14                141.000000\n",
       "std                              NaN  7.527927e+11                  5.067802"
      ]
     },
     "execution_count": 17,
     "metadata": {},
     "output_type": "execute_result"
    }
   ],
   "source": [
    "precos.describe()"
   ]
  },
  {
   "cell_type": "markdown",
   "metadata": {},
   "source": [
    "##### **3.4.4. Taxa de perdas**"
   ]
  },
  {
   "cell_type": "code",
   "execution_count": 18,
   "metadata": {},
   "outputs": [
    {
     "name": "stdout",
     "output_type": "stream",
     "text": [
      "<class 'pandas.core.frame.DataFrame'>\n",
      "RangeIndex: 251 entries, 0 to 250\n",
      "Data columns (total 3 columns):\n",
      " #   Column         Non-Null Count  Dtype  \n",
      "---  ------         --------------  -----  \n",
      " 0   Item Code      251 non-null    int64  \n",
      " 1   Item Name      251 non-null    object \n",
      " 2   Loss Rate (%)  251 non-null    float64\n",
      "dtypes: float64(1), int64(1), object(1)\n",
      "memory usage: 6.0+ KB\n"
     ]
    }
   ],
   "source": [
    "taxa_perda.info()"
   ]
  },
  {
   "cell_type": "code",
   "execution_count": 19,
   "metadata": {},
   "outputs": [
    {
     "data": {
      "text/html": [
       "<div>\n",
       "<style scoped>\n",
       "    .dataframe tbody tr th:only-of-type {\n",
       "        vertical-align: middle;\n",
       "    }\n",
       "\n",
       "    .dataframe tbody tr th {\n",
       "        vertical-align: top;\n",
       "    }\n",
       "\n",
       "    .dataframe thead th {\n",
       "        text-align: right;\n",
       "    }\n",
       "</style>\n",
       "<table border=\"1\" class=\"dataframe\">\n",
       "  <thead>\n",
       "    <tr style=\"text-align: right;\">\n",
       "      <th></th>\n",
       "      <th>Item Code</th>\n",
       "      <th>Loss Rate (%)</th>\n",
       "    </tr>\n",
       "  </thead>\n",
       "  <tbody>\n",
       "    <tr>\n",
       "      <th>count</th>\n",
       "      <td>2.510000e+02</td>\n",
       "      <td>251.000000</td>\n",
       "    </tr>\n",
       "    <tr>\n",
       "      <th>mean</th>\n",
       "      <td>1.031908e+14</td>\n",
       "      <td>9.426693</td>\n",
       "    </tr>\n",
       "    <tr>\n",
       "      <th>std</th>\n",
       "      <td>1.048400e+12</td>\n",
       "      <td>5.211027</td>\n",
       "    </tr>\n",
       "    <tr>\n",
       "      <th>min</th>\n",
       "      <td>1.029000e+14</td>\n",
       "      <td>0.000000</td>\n",
       "    </tr>\n",
       "    <tr>\n",
       "      <th>25%</th>\n",
       "      <td>1.029000e+14</td>\n",
       "      <td>8.225000</td>\n",
       "    </tr>\n",
       "    <tr>\n",
       "      <th>50%</th>\n",
       "      <td>1.029000e+14</td>\n",
       "      <td>9.430000</td>\n",
       "    </tr>\n",
       "    <tr>\n",
       "      <th>75%</th>\n",
       "      <td>1.029000e+14</td>\n",
       "      <td>11.130000</td>\n",
       "    </tr>\n",
       "    <tr>\n",
       "      <th>max</th>\n",
       "      <td>1.069740e+14</td>\n",
       "      <td>29.250000</td>\n",
       "    </tr>\n",
       "  </tbody>\n",
       "</table>\n",
       "</div>"
      ],
      "text/plain": [
       "          Item Code  Loss Rate (%)\n",
       "count  2.510000e+02     251.000000\n",
       "mean   1.031908e+14       9.426693\n",
       "std    1.048400e+12       5.211027\n",
       "min    1.029000e+14       0.000000\n",
       "25%    1.029000e+14       8.225000\n",
       "50%    1.029000e+14       9.430000\n",
       "75%    1.029000e+14      11.130000\n",
       "max    1.069740e+14      29.250000"
      ]
     },
     "execution_count": 19,
     "metadata": {},
     "output_type": "execute_result"
    }
   ],
   "source": [
    "taxa_perda.describe()"
   ]
  },
  {
   "cell_type": "markdown",
   "metadata": {},
   "source": [
    "### **4. Análises**"
   ]
  },
  {
   "cell_type": "code",
   "execution_count": 20,
   "metadata": {},
   "outputs": [
    {
     "name": "stdout",
     "output_type": "stream",
     "text": [
      "Index(['Item Code', 'Item Name', 'Category Code', 'Category Name'], dtype='object')\n",
      "Index(['Date', 'Time', 'Item Code', 'Quantity Sold (kilo)',\n",
      "       'Unit Selling Price (RMB/kg)', 'Sale or Return', 'Discount (Yes/No)'],\n",
      "      dtype='object')\n",
      "Index(['Date', 'Item Code', 'Wholesale Price (RMB/kg)'], dtype='object')\n",
      "Index(['Item Code', 'Item Name', 'Loss Rate (%)'], dtype='object')\n"
     ]
    }
   ],
   "source": [
    "print(produtos.columns)\n",
    "print(vendas.columns)\n",
    "print(precos.columns)\n",
    "print(taxa_perda.columns)"
   ]
  },
  {
   "cell_type": "code",
   "execution_count": 21,
   "metadata": {},
   "outputs": [
    {
     "data": {
      "text/html": [
       "<div>\n",
       "<style scoped>\n",
       "    .dataframe tbody tr th:only-of-type {\n",
       "        vertical-align: middle;\n",
       "    }\n",
       "\n",
       "    .dataframe tbody tr th {\n",
       "        vertical-align: top;\n",
       "    }\n",
       "\n",
       "    .dataframe thead th {\n",
       "        text-align: right;\n",
       "    }\n",
       "</style>\n",
       "<table border=\"1\" class=\"dataframe\">\n",
       "  <thead>\n",
       "    <tr style=\"text-align: right;\">\n",
       "      <th></th>\n",
       "      <th>Item Code</th>\n",
       "      <th>Item Name</th>\n",
       "      <th>Category Code</th>\n",
       "      <th>Category Name</th>\n",
       "      <th>Loss Rate (%)</th>\n",
       "    </tr>\n",
       "  </thead>\n",
       "  <tbody>\n",
       "    <tr>\n",
       "      <th>0</th>\n",
       "      <td>102900005115168</td>\n",
       "      <td>Niushou Shengcai</td>\n",
       "      <td>1011010101</td>\n",
       "      <td>Flower/Leaf Vegetables</td>\n",
       "      <td>4.39</td>\n",
       "    </tr>\n",
       "    <tr>\n",
       "      <th>1</th>\n",
       "      <td>102900005115199</td>\n",
       "      <td>Sichuan Red Cedar</td>\n",
       "      <td>1011010101</td>\n",
       "      <td>Flower/Leaf Vegetables</td>\n",
       "      <td>10.46</td>\n",
       "    </tr>\n",
       "    <tr>\n",
       "      <th>2</th>\n",
       "      <td>102900005115625</td>\n",
       "      <td>Local Xiaomao Cabbage</td>\n",
       "      <td>1011010101</td>\n",
       "      <td>Flower/Leaf Vegetables</td>\n",
       "      <td>0.18</td>\n",
       "    </tr>\n",
       "    <tr>\n",
       "      <th>3</th>\n",
       "      <td>102900005115748</td>\n",
       "      <td>White Caitai</td>\n",
       "      <td>1011010101</td>\n",
       "      <td>Flower/Leaf Vegetables</td>\n",
       "      <td>8.78</td>\n",
       "    </tr>\n",
       "    <tr>\n",
       "      <th>4</th>\n",
       "      <td>102900005115762</td>\n",
       "      <td>Amaranth</td>\n",
       "      <td>1011010101</td>\n",
       "      <td>Flower/Leaf Vegetables</td>\n",
       "      <td>18.52</td>\n",
       "    </tr>\n",
       "    <tr>\n",
       "      <th>...</th>\n",
       "      <td>...</td>\n",
       "      <td>...</td>\n",
       "      <td>...</td>\n",
       "      <td>...</td>\n",
       "      <td>...</td>\n",
       "    </tr>\n",
       "    <tr>\n",
       "      <th>246</th>\n",
       "      <td>106958851400125</td>\n",
       "      <td>Haixian Mushroom (Bag) (4)</td>\n",
       "      <td>1011010801</td>\n",
       "      <td>Edible Mushroom</td>\n",
       "      <td>11.13</td>\n",
       "    </tr>\n",
       "    <tr>\n",
       "      <th>247</th>\n",
       "      <td>106971533450003</td>\n",
       "      <td>Haixian Mushroom (Bunch)</td>\n",
       "      <td>1011010801</td>\n",
       "      <td>Edible Mushroom</td>\n",
       "      <td>0.00</td>\n",
       "    </tr>\n",
       "    <tr>\n",
       "      <th>248</th>\n",
       "      <td>106971533455008</td>\n",
       "      <td>Haixian Mushroom (Bag) (3)</td>\n",
       "      <td>1011010801</td>\n",
       "      <td>Edible Mushroom</td>\n",
       "      <td>1.30</td>\n",
       "    </tr>\n",
       "    <tr>\n",
       "      <th>249</th>\n",
       "      <td>106973223300667</td>\n",
       "      <td>Chinese Caterpillar Fungus Flowers (Box) (2)</td>\n",
       "      <td>1011010801</td>\n",
       "      <td>Edible Mushroom</td>\n",
       "      <td>11.13</td>\n",
       "    </tr>\n",
       "    <tr>\n",
       "      <th>250</th>\n",
       "      <td>106973990980123</td>\n",
       "      <td>Hfyg Haixian Mushroom (Bunch)</td>\n",
       "      <td>1011010801</td>\n",
       "      <td>Edible Mushroom</td>\n",
       "      <td>0.12</td>\n",
       "    </tr>\n",
       "  </tbody>\n",
       "</table>\n",
       "<p>251 rows × 5 columns</p>\n",
       "</div>"
      ],
      "text/plain": [
       "           Item Code                                     Item Name  \\\n",
       "0    102900005115168                              Niushou Shengcai   \n",
       "1    102900005115199                             Sichuan Red Cedar   \n",
       "2    102900005115625                         Local Xiaomao Cabbage   \n",
       "3    102900005115748                                  White Caitai   \n",
       "4    102900005115762                                      Amaranth   \n",
       "..               ...                                           ...   \n",
       "246  106958851400125                    Haixian Mushroom (Bag) (4)   \n",
       "247  106971533450003                      Haixian Mushroom (Bunch)   \n",
       "248  106971533455008                    Haixian Mushroom (Bag) (3)   \n",
       "249  106973223300667  Chinese Caterpillar Fungus Flowers (Box) (2)   \n",
       "250  106973990980123                 Hfyg Haixian Mushroom (Bunch)   \n",
       "\n",
       "     Category Code           Category Name  Loss Rate (%)  \n",
       "0       1011010101  Flower/Leaf Vegetables           4.39  \n",
       "1       1011010101  Flower/Leaf Vegetables          10.46  \n",
       "2       1011010101  Flower/Leaf Vegetables           0.18  \n",
       "3       1011010101  Flower/Leaf Vegetables           8.78  \n",
       "4       1011010101  Flower/Leaf Vegetables          18.52  \n",
       "..             ...                     ...            ...  \n",
       "246     1011010801         Edible Mushroom          11.13  \n",
       "247     1011010801         Edible Mushroom           0.00  \n",
       "248     1011010801         Edible Mushroom           1.30  \n",
       "249     1011010801         Edible Mushroom          11.13  \n",
       "250     1011010801         Edible Mushroom           0.12  \n",
       "\n",
       "[251 rows x 5 columns]"
      ]
     },
     "execution_count": 21,
     "metadata": {},
     "output_type": "execute_result"
    }
   ],
   "source": [
    "base = pd.merge(produtos, taxa_perda[['Item Code','Loss Rate (%)']], how='left', on='Item Code')\n",
    "base"
   ]
  },
  {
   "cell_type": "code",
   "execution_count": 22,
   "metadata": {},
   "outputs": [
    {
     "data": {
      "text/plain": [
       "(2087, 7)"
      ]
     },
     "execution_count": 22,
     "metadata": {},
     "output_type": "execute_result"
    }
   ],
   "source": [
    "vendas.loc[vendas['Item Code'] == 102900005115168].shape"
   ]
  },
  {
   "cell_type": "code",
   "execution_count": 23,
   "metadata": {},
   "outputs": [
    {
     "data": {
      "text/html": [
       "<div>\n",
       "<style scoped>\n",
       "    .dataframe tbody tr th:only-of-type {\n",
       "        vertical-align: middle;\n",
       "    }\n",
       "\n",
       "    .dataframe tbody tr th {\n",
       "        vertical-align: top;\n",
       "    }\n",
       "\n",
       "    .dataframe thead th {\n",
       "        text-align: right;\n",
       "    }\n",
       "</style>\n",
       "<table border=\"1\" class=\"dataframe\">\n",
       "  <thead>\n",
       "    <tr style=\"text-align: right;\">\n",
       "      <th>Sale or Return</th>\n",
       "      <th>return</th>\n",
       "      <th>sale</th>\n",
       "    </tr>\n",
       "    <tr>\n",
       "      <th>Item Code</th>\n",
       "      <th></th>\n",
       "      <th></th>\n",
       "    </tr>\n",
       "  </thead>\n",
       "  <tbody>\n",
       "    <tr>\n",
       "      <th>102900005115168</th>\n",
       "      <td>0.0</td>\n",
       "      <td>2087.0</td>\n",
       "    </tr>\n",
       "    <tr>\n",
       "      <th>102900005115199</th>\n",
       "      <td>1.0</td>\n",
       "      <td>1535.0</td>\n",
       "    </tr>\n",
       "    <tr>\n",
       "      <th>102900005115250</th>\n",
       "      <td>7.0</td>\n",
       "      <td>11400.0</td>\n",
       "    </tr>\n",
       "    <tr>\n",
       "      <th>102900005115625</th>\n",
       "      <td>0.0</td>\n",
       "      <td>306.0</td>\n",
       "    </tr>\n",
       "    <tr>\n",
       "      <th>102900005115748</th>\n",
       "      <td>0.0</td>\n",
       "      <td>1305.0</td>\n",
       "    </tr>\n",
       "    <tr>\n",
       "      <th>102900005115762</th>\n",
       "      <td>7.0</td>\n",
       "      <td>10292.0</td>\n",
       "    </tr>\n",
       "    <tr>\n",
       "      <th>102900005115779</th>\n",
       "      <td>10.0</td>\n",
       "      <td>39877.0</td>\n",
       "    </tr>\n",
       "    <tr>\n",
       "      <th>102900005115786</th>\n",
       "      <td>14.0</td>\n",
       "      <td>16172.0</td>\n",
       "    </tr>\n",
       "    <tr>\n",
       "      <th>102900005115793</th>\n",
       "      <td>4.0</td>\n",
       "      <td>3966.0</td>\n",
       "    </tr>\n",
       "    <tr>\n",
       "      <th>102900005115816</th>\n",
       "      <td>0.0</td>\n",
       "      <td>42.0</td>\n",
       "    </tr>\n",
       "  </tbody>\n",
       "</table>\n",
       "</div>"
      ],
      "text/plain": [
       "Sale or Return   return     sale\n",
       "Item Code                       \n",
       "102900005115168     0.0   2087.0\n",
       "102900005115199     1.0   1535.0\n",
       "102900005115250     7.0  11400.0\n",
       "102900005115625     0.0    306.0\n",
       "102900005115748     0.0   1305.0\n",
       "102900005115762     7.0  10292.0\n",
       "102900005115779    10.0  39877.0\n",
       "102900005115786    14.0  16172.0\n",
       "102900005115793     4.0   3966.0\n",
       "102900005115816     0.0     42.0"
      ]
     },
     "execution_count": 23,
     "metadata": {},
     "output_type": "execute_result"
    }
   ],
   "source": [
    "a = pd.DataFrame(vendas.groupby('Item Code')['Sale or Return'].value_counts()).reset_index()\n",
    "tabela = pd.crosstab(a['Item Code'], a['Sale or Return'], values=a['count'], aggfunc='sum')\n",
    "tabela = tabela.fillna(0)\n",
    "tabela.head(10)"
   ]
  },
  {
   "cell_type": "code",
   "execution_count": 24,
   "metadata": {},
   "outputs": [
    {
     "data": {
      "text/html": [
       "<div>\n",
       "<style scoped>\n",
       "    .dataframe tbody tr th:only-of-type {\n",
       "        vertical-align: middle;\n",
       "    }\n",
       "\n",
       "    .dataframe tbody tr th {\n",
       "        vertical-align: top;\n",
       "    }\n",
       "\n",
       "    .dataframe thead th {\n",
       "        text-align: right;\n",
       "    }\n",
       "</style>\n",
       "<table border=\"1\" class=\"dataframe\">\n",
       "  <thead>\n",
       "    <tr style=\"text-align: right;\">\n",
       "      <th></th>\n",
       "      <th>Item Code</th>\n",
       "      <th>Item Name</th>\n",
       "      <th>Category Code</th>\n",
       "      <th>Category Name</th>\n",
       "      <th>Loss Rate (%)</th>\n",
       "      <th>return</th>\n",
       "      <th>sale</th>\n",
       "    </tr>\n",
       "  </thead>\n",
       "  <tbody>\n",
       "    <tr>\n",
       "      <th>0</th>\n",
       "      <td>102900005115168</td>\n",
       "      <td>Niushou Shengcai</td>\n",
       "      <td>1011010101</td>\n",
       "      <td>Flower/Leaf Vegetables</td>\n",
       "      <td>4.39</td>\n",
       "      <td>0</td>\n",
       "      <td>2087</td>\n",
       "    </tr>\n",
       "    <tr>\n",
       "      <th>1</th>\n",
       "      <td>102900005115199</td>\n",
       "      <td>Sichuan Red Cedar</td>\n",
       "      <td>1011010101</td>\n",
       "      <td>Flower/Leaf Vegetables</td>\n",
       "      <td>10.46</td>\n",
       "      <td>1</td>\n",
       "      <td>1535</td>\n",
       "    </tr>\n",
       "    <tr>\n",
       "      <th>2</th>\n",
       "      <td>102900005115625</td>\n",
       "      <td>Local Xiaomao Cabbage</td>\n",
       "      <td>1011010101</td>\n",
       "      <td>Flower/Leaf Vegetables</td>\n",
       "      <td>0.18</td>\n",
       "      <td>0</td>\n",
       "      <td>306</td>\n",
       "    </tr>\n",
       "    <tr>\n",
       "      <th>3</th>\n",
       "      <td>102900005115748</td>\n",
       "      <td>White Caitai</td>\n",
       "      <td>1011010101</td>\n",
       "      <td>Flower/Leaf Vegetables</td>\n",
       "      <td>8.78</td>\n",
       "      <td>0</td>\n",
       "      <td>1305</td>\n",
       "    </tr>\n",
       "    <tr>\n",
       "      <th>4</th>\n",
       "      <td>102900005115762</td>\n",
       "      <td>Amaranth</td>\n",
       "      <td>1011010101</td>\n",
       "      <td>Flower/Leaf Vegetables</td>\n",
       "      <td>18.52</td>\n",
       "      <td>7</td>\n",
       "      <td>10292</td>\n",
       "    </tr>\n",
       "    <tr>\n",
       "      <th>...</th>\n",
       "      <td>...</td>\n",
       "      <td>...</td>\n",
       "      <td>...</td>\n",
       "      <td>...</td>\n",
       "      <td>...</td>\n",
       "      <td>...</td>\n",
       "      <td>...</td>\n",
       "    </tr>\n",
       "    <tr>\n",
       "      <th>246</th>\n",
       "      <td>106958851400125</td>\n",
       "      <td>Haixian Mushroom (Bag) (4)</td>\n",
       "      <td>1011010801</td>\n",
       "      <td>Edible Mushroom</td>\n",
       "      <td>11.13</td>\n",
       "      <td>1</td>\n",
       "      <td>2149</td>\n",
       "    </tr>\n",
       "    <tr>\n",
       "      <th>247</th>\n",
       "      <td>106971533450003</td>\n",
       "      <td>Haixian Mushroom (Bunch)</td>\n",
       "      <td>1011010801</td>\n",
       "      <td>Edible Mushroom</td>\n",
       "      <td>0.00</td>\n",
       "      <td>0</td>\n",
       "      <td>1300</td>\n",
       "    </tr>\n",
       "    <tr>\n",
       "      <th>248</th>\n",
       "      <td>106971533455008</td>\n",
       "      <td>Haixian Mushroom (Bag) (3)</td>\n",
       "      <td>1011010801</td>\n",
       "      <td>Edible Mushroom</td>\n",
       "      <td>1.30</td>\n",
       "      <td>1</td>\n",
       "      <td>1775</td>\n",
       "    </tr>\n",
       "    <tr>\n",
       "      <th>249</th>\n",
       "      <td>106973223300667</td>\n",
       "      <td>Chinese Caterpillar Fungus Flowers (Box) (2)</td>\n",
       "      <td>1011010801</td>\n",
       "      <td>Edible Mushroom</td>\n",
       "      <td>11.13</td>\n",
       "      <td>0</td>\n",
       "      <td>1</td>\n",
       "    </tr>\n",
       "    <tr>\n",
       "      <th>250</th>\n",
       "      <td>106973990980123</td>\n",
       "      <td>Hfyg Haixian Mushroom (Bunch)</td>\n",
       "      <td>1011010801</td>\n",
       "      <td>Edible Mushroom</td>\n",
       "      <td>0.12</td>\n",
       "      <td>0</td>\n",
       "      <td>109</td>\n",
       "    </tr>\n",
       "  </tbody>\n",
       "</table>\n",
       "<p>251 rows × 7 columns</p>\n",
       "</div>"
      ],
      "text/plain": [
       "           Item Code                                     Item Name  \\\n",
       "0    102900005115168                              Niushou Shengcai   \n",
       "1    102900005115199                             Sichuan Red Cedar   \n",
       "2    102900005115625                         Local Xiaomao Cabbage   \n",
       "3    102900005115748                                  White Caitai   \n",
       "4    102900005115762                                      Amaranth   \n",
       "..               ...                                           ...   \n",
       "246  106958851400125                    Haixian Mushroom (Bag) (4)   \n",
       "247  106971533450003                      Haixian Mushroom (Bunch)   \n",
       "248  106971533455008                    Haixian Mushroom (Bag) (3)   \n",
       "249  106973223300667  Chinese Caterpillar Fungus Flowers (Box) (2)   \n",
       "250  106973990980123                 Hfyg Haixian Mushroom (Bunch)   \n",
       "\n",
       "     Category Code           Category Name  Loss Rate (%)  return   sale  \n",
       "0       1011010101  Flower/Leaf Vegetables           4.39       0   2087  \n",
       "1       1011010101  Flower/Leaf Vegetables          10.46       1   1535  \n",
       "2       1011010101  Flower/Leaf Vegetables           0.18       0    306  \n",
       "3       1011010101  Flower/Leaf Vegetables           8.78       0   1305  \n",
       "4       1011010101  Flower/Leaf Vegetables          18.52       7  10292  \n",
       "..             ...                     ...            ...     ...    ...  \n",
       "246     1011010801         Edible Mushroom          11.13       1   2149  \n",
       "247     1011010801         Edible Mushroom           0.00       0   1300  \n",
       "248     1011010801         Edible Mushroom           1.30       1   1775  \n",
       "249     1011010801         Edible Mushroom          11.13       0      1  \n",
       "250     1011010801         Edible Mushroom           0.12       0    109  \n",
       "\n",
       "[251 rows x 7 columns]"
      ]
     },
     "execution_count": 24,
     "metadata": {},
     "output_type": "execute_result"
    }
   ],
   "source": [
    "# base = pd.merge(base, tabela['return'], how='left', left_on = base['Item Code'], right_on=tabela['return'].index)\n",
    "base = pd.merge(base, tabela, how='left', left_on = base['Item Code'], right_on=tabela['return'].index)\n",
    "base = base.drop('key_0',axis=1)\n",
    "base[['return','sale']] = base[['return','sale']].astype('Int64')\n",
    "base\n"
   ]
  },
  {
   "cell_type": "markdown",
   "metadata": {},
   "source": [
    "#### **4.1. Visualizando informações a respeito das categorias dos produtos**"
   ]
  },
  {
   "cell_type": "code",
   "execution_count": 25,
   "metadata": {},
   "outputs": [
    {
     "data": {
      "text/plain": [
       "Category Name\n",
       "Flower/Leaf Vegetables         100\n",
       "Edible Mushroom                 72\n",
       "Capsicum                        45\n",
       "Aquatic Tuberous Vegetables     19\n",
       "Solanum                         10\n",
       "Cabbage                          5\n",
       "Name: count, dtype: int64"
      ]
     },
     "execution_count": 25,
     "metadata": {},
     "output_type": "execute_result"
    }
   ],
   "source": [
    "base['Category Name'].value_counts()"
   ]
  },
  {
   "cell_type": "code",
   "execution_count": 26,
   "metadata": {},
   "outputs": [
    {
     "data": {
      "image/png": "[encoded data removed]",
      "text/plain": [
       "<Figure size 800x400 with 1 Axes>"
      ]
     },
     "metadata": {},
     "output_type": "display_data"
    }
   ],
   "source": [
    "categorias_ordenadas = sorted(base['Category Name'].unique())\n",
    "\n",
    "\n",
    "fig, ax = plt.subplots(figsize=(8,4))\n",
    "sns.boxplot(data=base, x='Category Name',y='Loss Rate (%)', hue='Category Name', showmeans=True, order=categorias_ordenadas,\n",
    "            palette=['forestgreen','lime','deepskyblue','purple','darkorange','sandybrown'] #5, 2, 1, 6, 3, 4\n",
    ")\n",
    "a = ['Aquatic\\n Tuberous\\n Vegetables','Cabbage', 'Capsicum',  'Edible\\n Mushroom ', 'Flower/Leaf\\n Vegetables','Solanum']\n",
    "ax.set_xticks(range(0, 6))\n",
    "ax.set_xticklabels(a, fontsize=10)\n",
    "ax.set_xlabel('')\n",
    "ax.set_ylabel('Taxa de Perda (%)')\n",
    "ax.text(3.25, 26.7, 'Produtos próximos\\n a 30% de taxa\\n de perda!', ha='center', fontsize=8,\n",
    "        bbox=dict(facecolor='yellow', alpha=0.5, edgecolor='yellow'))\n",
    "\n",
    "plt.savefig('../images/01_EDA_01_taxa_perda_categorias.png')\n",
    "plt.show()"
   ]
  },
  {
   "cell_type": "code",
   "execution_count": 27,
   "metadata": {},
   "outputs": [
    {
     "data": {
      "image/png": "[encoded data removed]",
      "text/plain": [
       "<Figure size 800x400 with 1 Axes>"
      ]
     },
     "metadata": {},
     "output_type": "display_data"
    }
   ],
   "source": [
    "fig, ax = plt.subplots(figsize=(8,4))\n",
    "ab = base['Category Name'].value_counts().sort_index()\n",
    "ax.bar(ab.index, ab.values, color=['deepskyblue','lime','darkorange','sandybrown','forestgreen','purple'])#1,2,3,4,5,6\n",
    "ax.set_xticks(range(0, 6))\n",
    "a = ['Aquatic\\n Tuberous\\n Vegetables','Cabbage', 'Capsicum',  'Edible\\n Mushroom ', 'Flower/Leaf\\n Vegetables','Solanum']\n",
    "ax.set_xticklabels(a, fontsize=10)\n",
    "ax.set_xlabel('')\n",
    "ax.set_ylabel('')\n",
    "for i in range(6):\n",
    "    ax.annotate(ab.values[i], (ab.index[i], ab.values[i]+ab.values[i]*0.02), ha='center')\n",
    "ax.spines[['top','left','right']].set_visible(False)\n",
    "ax.yaxis.set_visible(False)\n",
    "ax.set_title('PRODUTOS POR CATEGORIA', fontsize=10, fontweight='bold')\n",
    "plt.savefig('../images/01_EDA_02_produtos_por_categoria.png')\n",
    "plt.show()"
   ]
  },
  {
   "cell_type": "code",
   "execution_count": 28,
   "metadata": {},
   "outputs": [],
   "source": [
    "def perda_vegetais(x):\n",
    "    if x >= 25:\n",
    "        return '25%+'\n",
    "    elif x >= 20:\n",
    "        return '20%-25%'\n",
    "    elif x >= 15:\n",
    "        return '15%-20%'\n",
    "    elif x >= 10:\n",
    "        return '10%-15%'\n",
    "    elif x >= 5:\n",
    "        return '05%-10%'\n",
    "    elif x >= 0:\n",
    "        return '0%-5%'\n",
    "\n",
    "# Aplicando a função\n",
    "base['Agp_Taxa_Perda'] = base['Loss Rate (%)'].apply(perda_vegetais)"
   ]
  },
  {
   "cell_type": "markdown",
   "metadata": {},
   "source": [
    "#### **4.2. Visualizando intervalos de Taxa de Perda**"
   ]
  },
  {
   "cell_type": "code",
   "execution_count": 29,
   "metadata": {},
   "outputs": [
    {
     "data": {
      "image/png": "[encoded data removed]",
      "text/plain": [
       "<Figure size 600x500 with 1 Axes>"
      ]
     },
     "metadata": {},
     "output_type": "display_data"
    }
   ],
   "source": [
    "a = base['Agp_Taxa_Perda'].value_counts().sort_index()\n",
    "fig, ax = plt.subplots(figsize=(6,5))\n",
    "ax.bar(a.index, a.values, color=['green','lightgreen','yellow','orange','darkorange','tomato'])\n",
    "ax.spines[['top','left','right']].set_visible(False)\n",
    "ax.yaxis.set_visible(False)\n",
    "ax.set_title('QUANTIDADE DE VEGETAIS POR\\nTAXA DE PERDA', fontsize=12, fontweight='bold')\n",
    "for i in range(0,len(a.index)):\n",
    "    ax.annotate(a.values[i], (a.index[i], a.values[i]+a.values[i]*0.02),ha='center')\n",
    "    \n",
    "plt.savefig('../images/01_EDA_03_intervalos_taxa_perda.png')\n",
    "plt.show()"
   ]
  },
  {
   "cell_type": "code",
   "execution_count": 30,
   "metadata": {},
   "outputs": [
    {
     "data": {
      "text/plain": [
       "Date                           1085\n",
       "Time                            807\n",
       "Item Code                       246\n",
       "Quantity Sold (kilo)           2794\n",
       "Unit Selling Price (RMB/kg)     264\n",
       "Sale or Return                    2\n",
       "Discount (Yes/No)                 2\n",
       "dtype: int64"
      ]
     },
     "execution_count": 30,
     "metadata": {},
     "output_type": "execute_result"
    }
   ],
   "source": [
    "vendas.nunique()"
   ]
  },
  {
   "cell_type": "code",
   "execution_count": 31,
   "metadata": {},
   "outputs": [
    {
     "data": {
      "text/plain": [
       "Item Code         0\n",
       "Item Name         0\n",
       "Category Code     0\n",
       "Category Name     0\n",
       "Loss Rate (%)     0\n",
       "return            5\n",
       "sale              5\n",
       "Agp_Taxa_Perda    0\n",
       "dtype: int64"
      ]
     },
     "execution_count": 31,
     "metadata": {},
     "output_type": "execute_result"
    }
   ],
   "source": [
    "base.isnull().sum()"
   ]
  },
  {
   "cell_type": "markdown",
   "metadata": {},
   "source": [
    "Os 5 valores nulos de \"sales\" e \"return\" são devido a não presença nos registros de vendas"
   ]
  },
  {
   "cell_type": "code",
   "execution_count": 32,
   "metadata": {},
   "outputs": [
    {
     "data": {
      "text/html": [
       "<div>\n",
       "<style scoped>\n",
       "    .dataframe tbody tr th:only-of-type {\n",
       "        vertical-align: middle;\n",
       "    }\n",
       "\n",
       "    .dataframe tbody tr th {\n",
       "        vertical-align: top;\n",
       "    }\n",
       "\n",
       "    .dataframe thead th {\n",
       "        text-align: right;\n",
       "    }\n",
       "</style>\n",
       "<table border=\"1\" class=\"dataframe\">\n",
       "  <thead>\n",
       "    <tr style=\"text-align: right;\">\n",
       "      <th></th>\n",
       "      <th>Item Code</th>\n",
       "      <th>Item Name</th>\n",
       "      <th>Category Code</th>\n",
       "      <th>Category Name</th>\n",
       "      <th>Loss Rate (%)</th>\n",
       "      <th>return</th>\n",
       "      <th>sale</th>\n",
       "      <th>Agp_Taxa_Perda</th>\n",
       "    </tr>\n",
       "  </thead>\n",
       "  <tbody>\n",
       "    <tr>\n",
       "      <th>0</th>\n",
       "      <td>102900005115168</td>\n",
       "      <td>Niushou Shengcai</td>\n",
       "      <td>1011010101</td>\n",
       "      <td>Flower/Leaf Vegetables</td>\n",
       "      <td>4.39</td>\n",
       "      <td>0</td>\n",
       "      <td>2087</td>\n",
       "      <td>0%-5%</td>\n",
       "    </tr>\n",
       "    <tr>\n",
       "      <th>1</th>\n",
       "      <td>102900005115199</td>\n",
       "      <td>Sichuan Red Cedar</td>\n",
       "      <td>1011010101</td>\n",
       "      <td>Flower/Leaf Vegetables</td>\n",
       "      <td>10.46</td>\n",
       "      <td>1</td>\n",
       "      <td>1535</td>\n",
       "      <td>10%-15%</td>\n",
       "    </tr>\n",
       "    <tr>\n",
       "      <th>2</th>\n",
       "      <td>102900005115625</td>\n",
       "      <td>Local Xiaomao Cabbage</td>\n",
       "      <td>1011010101</td>\n",
       "      <td>Flower/Leaf Vegetables</td>\n",
       "      <td>0.18</td>\n",
       "      <td>0</td>\n",
       "      <td>306</td>\n",
       "      <td>0%-5%</td>\n",
       "    </tr>\n",
       "  </tbody>\n",
       "</table>\n",
       "</div>"
      ],
      "text/plain": [
       "         Item Code              Item Name  Category Code  \\\n",
       "0  102900005115168       Niushou Shengcai     1011010101   \n",
       "1  102900005115199      Sichuan Red Cedar     1011010101   \n",
       "2  102900005115625  Local Xiaomao Cabbage     1011010101   \n",
       "\n",
       "            Category Name  Loss Rate (%)  return  sale Agp_Taxa_Perda  \n",
       "0  Flower/Leaf Vegetables           4.39       0  2087          0%-5%  \n",
       "1  Flower/Leaf Vegetables          10.46       1  1535        10%-15%  \n",
       "2  Flower/Leaf Vegetables           0.18       0   306          0%-5%  "
      ]
     },
     "execution_count": 32,
     "metadata": {},
     "output_type": "execute_result"
    }
   ],
   "source": [
    "base = base.fillna(0)\n",
    "base.head(3)"
   ]
  },
  {
   "cell_type": "markdown",
   "metadata": {},
   "source": [
    "#### **4.3. Analisando produtos com as maiores taxas de perda**"
   ]
  },
  {
   "cell_type": "code",
   "execution_count": 33,
   "metadata": {},
   "outputs": [
    {
     "data": {
      "text/html": [
       "<div>\n",
       "<style scoped>\n",
       "    .dataframe tbody tr th:only-of-type {\n",
       "        vertical-align: middle;\n",
       "    }\n",
       "\n",
       "    .dataframe tbody tr th {\n",
       "        vertical-align: top;\n",
       "    }\n",
       "\n",
       "    .dataframe thead th {\n",
       "        text-align: right;\n",
       "    }\n",
       "</style>\n",
       "<table border=\"1\" class=\"dataframe\">\n",
       "  <thead>\n",
       "    <tr style=\"text-align: right;\">\n",
       "      <th></th>\n",
       "      <th>Item Code</th>\n",
       "      <th>Item Name</th>\n",
       "      <th>Category Code</th>\n",
       "      <th>Category Name</th>\n",
       "      <th>Loss Rate (%)</th>\n",
       "      <th>return</th>\n",
       "      <th>sale</th>\n",
       "      <th>Agp_Taxa_Perda</th>\n",
       "    </tr>\n",
       "  </thead>\n",
       "  <tbody>\n",
       "    <tr>\n",
       "      <th>107</th>\n",
       "      <td>102900005118824</td>\n",
       "      <td>High Melon (1)</td>\n",
       "      <td>1011010402</td>\n",
       "      <td>Aquatic Tuberous Vegetables</td>\n",
       "      <td>29.25</td>\n",
       "      <td>1</td>\n",
       "      <td>3558</td>\n",
       "      <td>25%+</td>\n",
       "    </tr>\n",
       "    <tr>\n",
       "      <th>73</th>\n",
       "      <td>102900011033081</td>\n",
       "      <td>Chuncai</td>\n",
       "      <td>1011010101</td>\n",
       "      <td>Flower/Leaf Vegetables</td>\n",
       "      <td>29.03</td>\n",
       "      <td>0</td>\n",
       "      <td>40</td>\n",
       "      <td>25%+</td>\n",
       "    </tr>\n",
       "    <tr>\n",
       "      <th>32</th>\n",
       "      <td>102900011006689</td>\n",
       "      <td>Dongmenkou Xiaobaicai</td>\n",
       "      <td>1011010101</td>\n",
       "      <td>Flower/Leaf Vegetables</td>\n",
       "      <td>27.84</td>\n",
       "      <td>2</td>\n",
       "      <td>4160</td>\n",
       "      <td>25%+</td>\n",
       "    </tr>\n",
       "    <tr>\n",
       "      <th>33</th>\n",
       "      <td>102900011006948</td>\n",
       "      <td>Foreign Garland Chrysanthemum</td>\n",
       "      <td>1011010101</td>\n",
       "      <td>Flower/Leaf Vegetables</td>\n",
       "      <td>26.16</td>\n",
       "      <td>0</td>\n",
       "      <td>1588</td>\n",
       "      <td>25%+</td>\n",
       "    </tr>\n",
       "    <tr>\n",
       "      <th>101</th>\n",
       "      <td>102900011000632</td>\n",
       "      <td>Purple Cabbage (1)</td>\n",
       "      <td>1011010201</td>\n",
       "      <td>Cabbage</td>\n",
       "      <td>25.53</td>\n",
       "      <td>0</td>\n",
       "      <td>24</td>\n",
       "      <td>25%+</td>\n",
       "    </tr>\n",
       "    <tr>\n",
       "      <th>122</th>\n",
       "      <td>102900051000944</td>\n",
       "      <td>Honghu Lotus Root</td>\n",
       "      <td>1011010402</td>\n",
       "      <td>Aquatic Tuberous Vegetables</td>\n",
       "      <td>24.05</td>\n",
       "      <td>0</td>\n",
       "      <td>2067</td>\n",
       "      <td>20%-25%</td>\n",
       "    </tr>\n",
       "    <tr>\n",
       "      <th>16</th>\n",
       "      <td>102900005115960</td>\n",
       "      <td>Chinese Cabbage</td>\n",
       "      <td>1011010101</td>\n",
       "      <td>Flower/Leaf Vegetables</td>\n",
       "      <td>22.27</td>\n",
       "      <td>4</td>\n",
       "      <td>15174</td>\n",
       "      <td>20%-25%</td>\n",
       "    </tr>\n",
       "    <tr>\n",
       "      <th>29</th>\n",
       "      <td>102900011000175</td>\n",
       "      <td>Kuaicai</td>\n",
       "      <td>1011010101</td>\n",
       "      <td>Flower/Leaf Vegetables</td>\n",
       "      <td>20.38</td>\n",
       "      <td>0</td>\n",
       "      <td>253</td>\n",
       "      <td>20%-25%</td>\n",
       "    </tr>\n",
       "    <tr>\n",
       "      <th>209</th>\n",
       "      <td>102900011030608</td>\n",
       "      <td>The Steak Mushrooms (Box)</td>\n",
       "      <td>1011010801</td>\n",
       "      <td>Edible Mushroom</td>\n",
       "      <td>19.80</td>\n",
       "      <td>1</td>\n",
       "      <td>35</td>\n",
       "      <td>15%-20%</td>\n",
       "    </tr>\n",
       "    <tr>\n",
       "      <th>97</th>\n",
       "      <td>102900051010790</td>\n",
       "      <td>Purple Beicai</td>\n",
       "      <td>1011010101</td>\n",
       "      <td>Flower/Leaf Vegetables</td>\n",
       "      <td>19.58</td>\n",
       "      <td>0</td>\n",
       "      <td>153</td>\n",
       "      <td>15%-20%</td>\n",
       "    </tr>\n",
       "  </tbody>\n",
       "</table>\n",
       "</div>"
      ],
      "text/plain": [
       "           Item Code                       Item Name  Category Code  \\\n",
       "107  102900005118824                  High Melon (1)     1011010402   \n",
       "73   102900011033081                         Chuncai     1011010101   \n",
       "32   102900011006689           Dongmenkou Xiaobaicai     1011010101   \n",
       "33   102900011006948  Foreign Garland Chrysanthemum      1011010101   \n",
       "101  102900011000632              Purple Cabbage (1)     1011010201   \n",
       "122  102900051000944               Honghu Lotus Root     1011010402   \n",
       "16   102900005115960                 Chinese Cabbage     1011010101   \n",
       "29   102900011000175                         Kuaicai     1011010101   \n",
       "209  102900011030608       The Steak Mushrooms (Box)     1011010801   \n",
       "97   102900051010790                   Purple Beicai     1011010101   \n",
       "\n",
       "                   Category Name  Loss Rate (%)  return   sale Agp_Taxa_Perda  \n",
       "107  Aquatic Tuberous Vegetables          29.25       1   3558           25%+  \n",
       "73        Flower/Leaf Vegetables          29.03       0     40           25%+  \n",
       "32        Flower/Leaf Vegetables          27.84       2   4160           25%+  \n",
       "33        Flower/Leaf Vegetables          26.16       0   1588           25%+  \n",
       "101                      Cabbage          25.53       0     24           25%+  \n",
       "122  Aquatic Tuberous Vegetables          24.05       0   2067        20%-25%  \n",
       "16        Flower/Leaf Vegetables          22.27       4  15174        20%-25%  \n",
       "29        Flower/Leaf Vegetables          20.38       0    253        20%-25%  \n",
       "209              Edible Mushroom          19.80       1     35        15%-20%  \n",
       "97        Flower/Leaf Vegetables          19.58       0    153        15%-20%  "
      ]
     },
     "execution_count": 33,
     "metadata": {},
     "output_type": "execute_result"
    }
   ],
   "source": [
    "base.sort_values(by='Loss Rate (%)', ascending=False).head(10)"
   ]
  },
  {
   "cell_type": "code",
   "execution_count": 34,
   "metadata": {},
   "outputs": [
    {
     "data": {
      "image/png": "[encoded data removed]",
      "text/plain": [
       "<Figure size 640x480 with 1 Axes>"
      ]
     },
     "metadata": {},
     "output_type": "display_data"
    }
   ],
   "source": [
    "from matplotlib.colors import Normalize\n",
    "\n",
    "a = base.sort_values(by='Loss Rate (%)', ascending=False).head(10)[['Item Name','Loss Rate (%)']].sort_values(by='Loss Rate (%)',ascending=True)\n",
    "\n",
    "norm = Normalize(vmin=10, vmax=40)\n",
    "cmap = plt.get_cmap('Oranges')  \n",
    "colors = cmap(norm(a['Loss Rate (%)']))\n",
    "\n",
    "fig, ax = plt.subplots()\n",
    "ax.barh(a['Item Name'], a['Loss Rate (%)'], color=colors)\n",
    "ax.set_xlim([18,30])\n",
    "ax.set_yticks(range(10))\n",
    "ax.set_yticklabels(labels=a['Item Name'], fontsize=8)\n",
    "ax.spines[['top','left','right','bottom']].set_visible(False)\n",
    "ax.xaxis.set_visible(False)\n",
    "ax.set_title('TOP 10 TAXAS DE PERDAS DE PRODUTOS', fontweight='bold')\n",
    "for i in range(10):\n",
    "    ax.annotate(f'{a[\"Loss Rate (%)\"].values[i]}%', (a['Loss Rate (%)'].values[i],a['Item Name'].values[i]), ha='left')\n",
    "    \n",
    "plt.savefig('../images/01_EDA_04_maiores_taxas_perda.png')\n",
    "plt.show()"
   ]
  },
  {
   "cell_type": "markdown",
   "metadata": {},
   "source": [
    "#### **Analisando a venda desses produtos**"
   ]
  },
  {
   "cell_type": "code",
   "execution_count": 35,
   "metadata": {},
   "outputs": [
    {
     "data": {
      "text/html": [
       "<div>\n",
       "<style scoped>\n",
       "    .dataframe tbody tr th:only-of-type {\n",
       "        vertical-align: middle;\n",
       "    }\n",
       "\n",
       "    .dataframe tbody tr th {\n",
       "        vertical-align: top;\n",
       "    }\n",
       "\n",
       "    .dataframe thead th {\n",
       "        text-align: right;\n",
       "    }\n",
       "</style>\n",
       "<table border=\"1\" class=\"dataframe\">\n",
       "  <thead>\n",
       "    <tr style=\"text-align: right;\">\n",
       "      <th></th>\n",
       "      <th>Item Code</th>\n",
       "      <th>Item Name</th>\n",
       "      <th>Category Code</th>\n",
       "      <th>Category Name</th>\n",
       "      <th>Loss Rate (%)</th>\n",
       "      <th>return</th>\n",
       "      <th>sale</th>\n",
       "      <th>Agp_Taxa_Perda</th>\n",
       "    </tr>\n",
       "  </thead>\n",
       "  <tbody>\n",
       "    <tr>\n",
       "      <th>107</th>\n",
       "      <td>102900005118824</td>\n",
       "      <td>High Melon (1)</td>\n",
       "      <td>1011010402</td>\n",
       "      <td>Aquatic Tuberous Vegetables</td>\n",
       "      <td>29.25</td>\n",
       "      <td>1</td>\n",
       "      <td>3558</td>\n",
       "      <td>25%+</td>\n",
       "    </tr>\n",
       "    <tr>\n",
       "      <th>73</th>\n",
       "      <td>102900011033081</td>\n",
       "      <td>Chuncai</td>\n",
       "      <td>1011010101</td>\n",
       "      <td>Flower/Leaf Vegetables</td>\n",
       "      <td>29.03</td>\n",
       "      <td>0</td>\n",
       "      <td>40</td>\n",
       "      <td>25%+</td>\n",
       "    </tr>\n",
       "    <tr>\n",
       "      <th>32</th>\n",
       "      <td>102900011006689</td>\n",
       "      <td>Dongmenkou Xiaobaicai</td>\n",
       "      <td>1011010101</td>\n",
       "      <td>Flower/Leaf Vegetables</td>\n",
       "      <td>27.84</td>\n",
       "      <td>2</td>\n",
       "      <td>4160</td>\n",
       "      <td>25%+</td>\n",
       "    </tr>\n",
       "    <tr>\n",
       "      <th>33</th>\n",
       "      <td>102900011006948</td>\n",
       "      <td>Foreign Garland Chrysanthemum</td>\n",
       "      <td>1011010101</td>\n",
       "      <td>Flower/Leaf Vegetables</td>\n",
       "      <td>26.16</td>\n",
       "      <td>0</td>\n",
       "      <td>1588</td>\n",
       "      <td>25%+</td>\n",
       "    </tr>\n",
       "    <tr>\n",
       "      <th>101</th>\n",
       "      <td>102900011000632</td>\n",
       "      <td>Purple Cabbage (1)</td>\n",
       "      <td>1011010201</td>\n",
       "      <td>Cabbage</td>\n",
       "      <td>25.53</td>\n",
       "      <td>0</td>\n",
       "      <td>24</td>\n",
       "      <td>25%+</td>\n",
       "    </tr>\n",
       "    <tr>\n",
       "      <th>122</th>\n",
       "      <td>102900051000944</td>\n",
       "      <td>Honghu Lotus Root</td>\n",
       "      <td>1011010402</td>\n",
       "      <td>Aquatic Tuberous Vegetables</td>\n",
       "      <td>24.05</td>\n",
       "      <td>0</td>\n",
       "      <td>2067</td>\n",
       "      <td>20%-25%</td>\n",
       "    </tr>\n",
       "    <tr>\n",
       "      <th>16</th>\n",
       "      <td>102900005115960</td>\n",
       "      <td>Chinese Cabbage</td>\n",
       "      <td>1011010101</td>\n",
       "      <td>Flower/Leaf Vegetables</td>\n",
       "      <td>22.27</td>\n",
       "      <td>4</td>\n",
       "      <td>15174</td>\n",
       "      <td>20%-25%</td>\n",
       "    </tr>\n",
       "    <tr>\n",
       "      <th>29</th>\n",
       "      <td>102900011000175</td>\n",
       "      <td>Kuaicai</td>\n",
       "      <td>1011010101</td>\n",
       "      <td>Flower/Leaf Vegetables</td>\n",
       "      <td>20.38</td>\n",
       "      <td>0</td>\n",
       "      <td>253</td>\n",
       "      <td>20%-25%</td>\n",
       "    </tr>\n",
       "    <tr>\n",
       "      <th>209</th>\n",
       "      <td>102900011030608</td>\n",
       "      <td>The Steak Mushrooms (Box)</td>\n",
       "      <td>1011010801</td>\n",
       "      <td>Edible Mushroom</td>\n",
       "      <td>19.80</td>\n",
       "      <td>1</td>\n",
       "      <td>35</td>\n",
       "      <td>15%-20%</td>\n",
       "    </tr>\n",
       "    <tr>\n",
       "      <th>97</th>\n",
       "      <td>102900051010790</td>\n",
       "      <td>Purple Beicai</td>\n",
       "      <td>1011010101</td>\n",
       "      <td>Flower/Leaf Vegetables</td>\n",
       "      <td>19.58</td>\n",
       "      <td>0</td>\n",
       "      <td>153</td>\n",
       "      <td>15%-20%</td>\n",
       "    </tr>\n",
       "  </tbody>\n",
       "</table>\n",
       "</div>"
      ],
      "text/plain": [
       "           Item Code                       Item Name  Category Code  \\\n",
       "107  102900005118824                  High Melon (1)     1011010402   \n",
       "73   102900011033081                         Chuncai     1011010101   \n",
       "32   102900011006689           Dongmenkou Xiaobaicai     1011010101   \n",
       "33   102900011006948  Foreign Garland Chrysanthemum      1011010101   \n",
       "101  102900011000632              Purple Cabbage (1)     1011010201   \n",
       "122  102900051000944               Honghu Lotus Root     1011010402   \n",
       "16   102900005115960                 Chinese Cabbage     1011010101   \n",
       "29   102900011000175                         Kuaicai     1011010101   \n",
       "209  102900011030608       The Steak Mushrooms (Box)     1011010801   \n",
       "97   102900051010790                   Purple Beicai     1011010101   \n",
       "\n",
       "                   Category Name  Loss Rate (%)  return   sale Agp_Taxa_Perda  \n",
       "107  Aquatic Tuberous Vegetables          29.25       1   3558           25%+  \n",
       "73        Flower/Leaf Vegetables          29.03       0     40           25%+  \n",
       "32        Flower/Leaf Vegetables          27.84       2   4160           25%+  \n",
       "33        Flower/Leaf Vegetables          26.16       0   1588           25%+  \n",
       "101                      Cabbage          25.53       0     24           25%+  \n",
       "122  Aquatic Tuberous Vegetables          24.05       0   2067        20%-25%  \n",
       "16        Flower/Leaf Vegetables          22.27       4  15174        20%-25%  \n",
       "29        Flower/Leaf Vegetables          20.38       0    253        20%-25%  \n",
       "209              Edible Mushroom          19.80       1     35        15%-20%  \n",
       "97        Flower/Leaf Vegetables          19.58       0    153        15%-20%  "
      ]
     },
     "execution_count": 35,
     "metadata": {},
     "output_type": "execute_result"
    }
   ],
   "source": [
    "dez_maiores_taxas_de_perdas = base.sort_values(by='Loss Rate (%)', ascending=False).head(10)\n",
    "dez_maiores_taxas_de_perdas"
   ]
  },
  {
   "cell_type": "markdown",
   "metadata": {},
   "source": [
    "#### A Taxa de perda desses produtos pode ser devido a diversos fatores, como:\n",
    "\n",
    "- Preços altos\n",
    "- Não-Época do produto\n",
    "- Safra ruim\n",
    "- Mau planejamento do estoque\n",
    "- Condições climática"
   ]
  },
  {
   "cell_type": "code",
   "execution_count": 36,
   "metadata": {},
   "outputs": [
    {
     "name": "stdout",
     "output_type": "stream",
     "text": [
      "2020-07-01 00:00:00\n",
      "2023-06-30 00:00:00\n"
     ]
    }
   ],
   "source": [
    "print(vendas.Date.min())\n",
    "print(vendas.Date.max())"
   ]
  },
  {
   "cell_type": "code",
   "execution_count": 37,
   "metadata": {},
   "outputs": [
    {
     "data": {
      "text/html": [
       "<div>\n",
       "<style scoped>\n",
       "    .dataframe tbody tr th:only-of-type {\n",
       "        vertical-align: middle;\n",
       "    }\n",
       "\n",
       "    .dataframe tbody tr th {\n",
       "        vertical-align: top;\n",
       "    }\n",
       "\n",
       "    .dataframe thead th {\n",
       "        text-align: right;\n",
       "    }\n",
       "</style>\n",
       "<table border=\"1\" class=\"dataframe\">\n",
       "  <thead>\n",
       "    <tr style=\"text-align: right;\">\n",
       "      <th></th>\n",
       "      <th>Date</th>\n",
       "      <th>Time</th>\n",
       "      <th>Item Code</th>\n",
       "      <th>Quantity Sold (kilo)</th>\n",
       "      <th>Unit Selling Price (RMB/kg)</th>\n",
       "      <th>Sale or Return</th>\n",
       "      <th>Discount (Yes/No)</th>\n",
       "      <th>Month</th>\n",
       "      <th>Day</th>\n",
       "      <th>Price_no_discount</th>\n",
       "    </tr>\n",
       "  </thead>\n",
       "  <tbody>\n",
       "    <tr>\n",
       "      <th>0</th>\n",
       "      <td>2020-07-01</td>\n",
       "      <td>09:15</td>\n",
       "      <td>102900005117056</td>\n",
       "      <td>0.396</td>\n",
       "      <td>7.6</td>\n",
       "      <td>sale</td>\n",
       "      <td>No</td>\n",
       "      <td>7</td>\n",
       "      <td>1</td>\n",
       "      <td>3.01</td>\n",
       "    </tr>\n",
       "    <tr>\n",
       "      <th>1</th>\n",
       "      <td>2020-07-01</td>\n",
       "      <td>09:17</td>\n",
       "      <td>102900005115960</td>\n",
       "      <td>0.849</td>\n",
       "      <td>3.2</td>\n",
       "      <td>sale</td>\n",
       "      <td>No</td>\n",
       "      <td>7</td>\n",
       "      <td>1</td>\n",
       "      <td>2.72</td>\n",
       "    </tr>\n",
       "    <tr>\n",
       "      <th>2</th>\n",
       "      <td>2020-07-01</td>\n",
       "      <td>09:17</td>\n",
       "      <td>102900005117056</td>\n",
       "      <td>0.409</td>\n",
       "      <td>7.6</td>\n",
       "      <td>sale</td>\n",
       "      <td>No</td>\n",
       "      <td>7</td>\n",
       "      <td>1</td>\n",
       "      <td>3.11</td>\n",
       "    </tr>\n",
       "  </tbody>\n",
       "</table>\n",
       "</div>"
      ],
      "text/plain": [
       "        Date   Time        Item Code  Quantity Sold (kilo)  \\\n",
       "0 2020-07-01  09:15  102900005117056                 0.396   \n",
       "1 2020-07-01  09:17  102900005115960                 0.849   \n",
       "2 2020-07-01  09:17  102900005117056                 0.409   \n",
       "\n",
       "   Unit Selling Price (RMB/kg) Sale or Return Discount (Yes/No)  Month  Day  \\\n",
       "0                          7.6           sale                No      7    1   \n",
       "1                          3.2           sale                No      7    1   \n",
       "2                          7.6           sale                No      7    1   \n",
       "\n",
       "   Price_no_discount  \n",
       "0               3.01  \n",
       "1               2.72  \n",
       "2               3.11  "
      ]
     },
     "execution_count": 37,
     "metadata": {},
     "output_type": "execute_result"
    }
   ],
   "source": [
    "vendas['Month'] = vendas['Date'].dt.month\n",
    "vendas['Day'] = vendas['Date'].dt.day\n",
    "vendas['Price_no_discount'] = round(vendas['Quantity Sold (kilo)'] * vendas['Unit Selling Price (RMB/kg)'],2)\n",
    "vendas.head(3)"
   ]
  },
  {
   "cell_type": "code",
   "execution_count": 38,
   "metadata": {},
   "outputs": [
    {
     "data": {
      "text/plain": [
       "array([102900005118824, 102900011033081, 102900011006689, 102900011006948,\n",
       "       102900011000632, 102900051000944, 102900005115960, 102900011000175,\n",
       "       102900011030608, 102900051010790], dtype=int64)"
      ]
     },
     "execution_count": 38,
     "metadata": {},
     "output_type": "execute_result"
    }
   ],
   "source": [
    "dez_codigos = dez_maiores_taxas_de_perdas['Item Code'].values\n",
    "dez_codigos"
   ]
  },
  {
   "cell_type": "markdown",
   "metadata": {},
   "source": [
    "Importando função para exibição de gráficos"
   ]
  },
  {
   "cell_type": "code",
   "execution_count": 39,
   "metadata": {},
   "outputs": [],
   "source": [
    "import sys\n",
    "sys.path.append('../functions/')\n",
    "from funcoes import analise_grafica"
   ]
  },
  {
   "cell_type": "code",
   "execution_count": 40,
   "metadata": {},
   "outputs": [
    {
     "name": "stdout",
     "output_type": "stream",
     "text": [
      "Help on function analise_grafica in module funcoes:\n",
      "\n",
      "analise_grafica(base_vendas, base_produtos, base_taxas, codigo_produto, salvar='nao', titulo_salvamento=None, text_kwargs_ax0=None, text_kwargs_ax1=None)\n",
      "    Função para exibir gráficos de vendas de um produto\n",
      "    \n",
      "    base_vendas ---------- Dataframe de vendas\n",
      "    base_produtos -------- Dataframe de produtos\n",
      "    base_taxas ----------- Dataframe de taxas\n",
      "    codigo_produto ------- Código do produto\n",
      "    salvar --------------- \"sim\" ou \"yes\" para salvar a imagem. Padrão: \"não\"\n",
      "    titulo_salvamento ---- Nome para o arquivo .png\n",
      "    text_kwargs_ax0 ------ Comando para informações adicionais no ax[0].text()\n",
      "    text_kwargs_ax1 ------ Comando para informações adicionais no ax[1].text()\n",
      "\n"
     ]
    }
   ],
   "source": [
    "help(analise_grafica)"
   ]
  },
  {
   "cell_type": "code",
   "execution_count": 41,
   "metadata": {},
   "outputs": [
    {
     "data": {
      "image/png": "[encoded data removed]",
      "text/plain": [
       "<Figure size 1400x500 with 2 Axes>"
      ]
     },
     "metadata": {},
     "output_type": "display_data"
    }
   ],
   "source": [
    "ax1 = analise_grafica(vendas, produtos, taxa_perda, 102900005118824,'sim','01_EDA_05_produto_top1_taxa_perda',\n",
    "                      text_kwargs_ax0={\n",
    "                                        'x': 8.4, \n",
    "                                        'y': 280, \n",
    "                                        's': \"Pico de vendas\\n em julho e junho\", \n",
    "                                        'ha': 'center', \n",
    "                                        'fontsize': 9, \n",
    "                                        'bbox': {\n",
    "                                            'boxstyle': 'round,pad=0.3',\n",
    "                                            'facecolor': 'yellow',\n",
    "                                            'edgecolor': 'yellow',\n",
    "                                            'alpha': 0.5\n",
    "                                                }\n",
    "                                    })"
   ]
  },
  {
   "cell_type": "code",
   "execution_count": 42,
   "metadata": {},
   "outputs": [
    {
     "data": {
      "image/png": "[encoded data removed]",
      "text/plain": [
       "<Figure size 1400x500 with 2 Axes>"
      ]
     },
     "metadata": {},
     "output_type": "display_data"
    }
   ],
   "source": [
    "ax1 = analise_grafica(vendas, produtos, taxa_perda, 102900011033081,'sim','01_EDA_06_produto_top2_taxa_perda',\n",
    "                      text_kwargs_ax0={\n",
    "                                        'x': 7.7, \n",
    "                                        'y': 11.5, \n",
    "                                        's': \"Registros de vendas\\n em apenas 3 meses\\n do ano.\", \n",
    "                                        'ha': 'center', \n",
    "                                        'fontsize': 9, \n",
    "                                        'bbox': {\n",
    "                                            'boxstyle': 'round,pad=0.3',\n",
    "                                            'facecolor': 'yellow',\n",
    "                                            'edgecolor': 'yellow',\n",
    "                                            'alpha': 0.5\n",
    "                                                }\n",
    "                                    })"
   ]
  },
  {
   "cell_type": "code",
   "execution_count": 43,
   "metadata": {},
   "outputs": [
    {
     "data": {
      "image/png": "[encoded data removed]",
      "text/plain": [
       "<Figure size 1400x500 with 2 Axes>"
      ]
     },
     "metadata": {},
     "output_type": "display_data"
    }
   ],
   "source": [
    "ax1 = analise_grafica(vendas, produtos, taxa_perda, 102900011006689,'sim','01_EDA_07_produto_top3_taxa_perda',\n",
    "                      text_kwargs_ax0={\n",
    "                                        'x': 7, \n",
    "                                        'y': 100, \n",
    "                                        's': \"Queda nas vendas\\n no meio do ano.\", \n",
    "                                        'ha': 'center', \n",
    "                                        'fontsize': 9, \n",
    "                                        'bbox': {\n",
    "                                            'boxstyle': 'round,pad=0.3',\n",
    "                                            'facecolor': 'tomato',\n",
    "                                            'edgecolor': 'tomato',\n",
    "                                            'alpha': 0.3\n",
    "                                                }\n",
    "                                    },\n",
    "\n",
    "                      text_kwargs_ax1={\n",
    "                                        'x': 7, \n",
    "                                        'y': 1150, \n",
    "                                        's': \"Destaque de arrecadação\\n para abril e outubro\", \n",
    "                                        'ha': 'center', \n",
    "                                        'fontsize': 9, \n",
    "                                        'bbox': {\n",
    "                                            'boxstyle': 'round,pad=0.3',\n",
    "                                            'facecolor': 'lime',\n",
    "                                            'edgecolor': 'lime',\n",
    "                                            'alpha': 0.3\n",
    "                                                }\n",
    "                                    })"
   ]
  },
  {
   "cell_type": "code",
   "execution_count": 44,
   "metadata": {},
   "outputs": [
    {
     "data": {
      "image/png": "[encoded data removed]",
      "text/plain": [
       "<Figure size 1400x500 with 2 Axes>"
      ]
     },
     "metadata": {},
     "output_type": "display_data"
    }
   ],
   "source": [
    "ax1 = analise_grafica(vendas, produtos, taxa_perda, 102900011006948, 'sim','01_EDA_08_produto_top4_taxa_perda',\n",
    "                      text_kwargs_ax1={\n",
    "                                        'x': 4, \n",
    "                                        'y': 1700, \n",
    "                                        's': 'Ao analisar os gráficos,\\n podemos ver que em Maio,\\n o produto estava bem mais\\nbarato do que em Agosto', \n",
    "                                        'ha': 'center', \n",
    "                                        'fontsize': 9, \n",
    "                                        'bbox': {\n",
    "                                            'boxstyle': 'round,pad=0.3',\n",
    "                                            'facecolor': 'yellow',\n",
    "                                            'edgecolor': 'yellow',\n",
    "                                            'alpha': 0.5\n",
    "                                                }\n",
    "                                    })"
   ]
  },
  {
   "cell_type": "code",
   "execution_count": 45,
   "metadata": {},
   "outputs": [
    {
     "data": {
      "image/png": "[encoded data removed]",
      "text/plain": [
       "<Figure size 1400x500 with 2 Axes>"
      ]
     },
     "metadata": {},
     "output_type": "display_data"
    }
   ],
   "source": [
    "ax1 = analise_grafica(vendas, produtos, taxa_perda, 102900011000632, 'sim','01_EDA_09_produto_top5_taxa_perda',\n",
    "                      text_kwargs_ax1={\n",
    "                                        'x': 2.7, \n",
    "                                        'y': 109, \n",
    "                                        's': 'Pico de vendas\\n em janeiro', \n",
    "                                        'ha': 'center', \n",
    "                                        'fontsize': 9, \n",
    "                                        'bbox': {\n",
    "                                            'boxstyle': 'round,pad=0.3',\n",
    "                                            'facecolor': 'green',\n",
    "                                            'edgecolor': 'green',\n",
    "                                            'alpha': 0.3\n",
    "                                                }\n",
    "                                    })"
   ]
  }
 ],
 "metadata": {
  "kernelspec": {
   "display_name": "Python 3",
   "language": "python",
   "name": "python3"
  },
  "language_info": {
   "codemirror_mode": {
    "name": "ipython",
    "version": 3
   },
   "file_extension": ".py",
   "mimetype": "text/x-python",
   "name": "python",
   "nbconvert_exporter": "python",
   "pygments_lexer": "ipython3",
   "version": "3.11.9"
  }
 },
 "nbformat": 4,
 "nbformat_minor": 2
}
